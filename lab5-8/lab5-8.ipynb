{
 "cells": [
  {
   "attachments": {},
   "cell_type": "markdown",
   "metadata": {},
   "source": [
    "# Statistisc, lab 2"
   ]
  },
  {
   "cell_type": "code",
   "execution_count": null,
   "metadata": {},
   "outputs": [],
   "source": [
    "import numpy as np\n",
    "import scipy.stats as stats\n",
    "import scipy.optimize as opt\n",
    "import matplotlib.pyplot as plt\n",
    "from matplotlib.patches import Ellipse\n",
    "import matplotlib.transforms as transforms"
   ]
  },
  {
   "attachments": {},
   "cell_type": "markdown",
   "metadata": {},
   "source": [
    "## Task 1"
   ]
  },
  {
   "cell_type": "code",
   "execution_count": null,
   "metadata": {},
   "outputs": [],
   "source": [
    "def gen_norm(p, size):\n",
    "    return np.random.multivariate_normal([0, 0], [[1, p], [p, 1]], size).T\n",
    "\n",
    "def gen_mix(size):\n",
    "    return 0.9 * np.random.multivariate_normal([0, 0], [[1, 0.9], [0.9, 1]], size).T +\\\n",
    "                    0.1 * np.random.multivariate_normal([0, 0], [[10, 9], [9, 10]], size).T"
   ]
  },
  {
   "attachments": {},
   "cell_type": "markdown",
   "metadata": {},
   "source": [
    "### Coefficients"
   ]
  },
  {
   "cell_type": "code",
   "execution_count": null,
   "metadata": {},
   "outputs": [],
   "source": [
    "def rq(x, y):\n",
    "    med_x = np.median(x)\n",
    "    med_y = np.median(y)\n",
    "    n1 = np.array([x >= med_x and y >= med_y for x, y in zip(x, y)]).sum()\n",
    "    n2 = np.array([x < med_x and y >= med_y for x, y in zip(x, y)]).sum()\n",
    "    n3 = np.array([x < med_x and y < med_y for x, y in zip(x, y)]).sum()\n",
    "    n4 = np.array([x >= med_x and y < med_y for x, y in zip(x, y)]).sum()\n",
    "    return ((n1 + n3) - (n2 + n4)) / len(x)"
   ]
  },
  {
   "cell_type": "code",
   "execution_count": null,
   "metadata": {},
   "outputs": [],
   "source": [
    "tables = []\n",
    "param_signs = ['$E(z)$', '$E(z^2)$', '$D(z)$']\n",
    "for size in [20, 60, 100]:\n",
    "    table = []\n",
    "    for p in [0, 0.5, 0.9]:\n",
    "        table.append(['$\\\\rho = ' + str(p) + '~(\\\\ref{ro})$', '$r ~(\\\\ref{r})$',\n",
    "          '$r_Q ~(\\\\ref{rQ})$', '$r_S ~(\\\\ref{rS})$'])\n",
    "        for param_sign, param_calc_f in zip(param_signs, [np.mean, lambda vals: np.mean(np.array(vals) ** 2), np.std]):\n",
    "            row = []\n",
    "            row.append(param_sign) \n",
    "            for coef_calc_f in [lambda x, y: stats.pearsonr(x, y)[0], lambda x, y: stats.spearmanr(x, y)[0], rq]:\n",
    "                row.append(round(param_calc_f([coef_calc_f(*gen_norm(p, size)) for i in range(1000)]), 3))\n",
    "            table.append(row)\n",
    "    tables.append(table)"
   ]
  },
  {
   "cell_type": "code",
   "execution_count": null,
   "metadata": {},
   "outputs": [],
   "source": [
    "mix_table = []\n",
    "param_signs = ['$E(z)$', '$E(z^2)$', '$D(z)$']\n",
    "for size in [20, 60, 100]:\n",
    "    mix_table.append(['$n$ = ' + str(size), '$r ~(\\\\ref{r})$', '$r_Q ~(\\\\ref{rQ})$', '$r_S ~(\\\\ref{rS})$'])\n",
    "    for param_sign, param_calc_f in zip(param_signs, [np.mean, lambda vals: np.mean(np.array(vals) ** 2), np.std]):\n",
    "        row = []\n",
    "        row.append(param_sign) \n",
    "        for coef_calc_f in [lambda x, y: stats.pearsonr(x, y)[0], lambda x, y: stats.spearmanr(x, y)[0], rq]:\n",
    "            row.append(round(param_calc_f([coef_calc_f(*gen_mix(size)) for i in range(1000)]), 3))\n",
    "        mix_table.append(row)"
   ]
  },
  {
   "cell_type": "code",
   "execution_count": null,
   "metadata": {},
   "outputs": [],
   "source": [
    "for size, table in zip([20, 60, 100], tables):\n",
    "    with open(\"task1_data/\" + str(size) + \".tex\", \"w\") as f:\n",
    "        f.write(\"\\\\begin{tabular}{|c|c|c|c|}\\n\")\n",
    "        f.write(\"\\\\hline\\n\")\n",
    "        for row in table:\n",
    "            f.write(\" & \".join([str(i) for i in row]) + \"\\\\\\\\\\n\")\n",
    "            f.write(\"\\\\hline\\n\")\n",
    "        f.write(\"\\\\end{tabular}\")"
   ]
  },
  {
   "cell_type": "code",
   "execution_count": null,
   "metadata": {},
   "outputs": [],
   "source": [
    "with open(\"task1_data/mix.tex\", \"w\") as f:\n",
    "        f.write(\"\\\\begin{tabular}{|c|c|c|c|}\\n\")\n",
    "        f.write(\"\\\\hline\\n\")\n",
    "        for row in mix_table:\n",
    "            f.write(\" & \".join([str(i) for i in row]) + \"\\\\\\\\\\n\")\n",
    "            f.write(\"\\\\hline\\n\")\n",
    "        f.write(\"\\\\end{tabular}\")"
   ]
  },
  {
   "attachments": {},
   "cell_type": "markdown",
   "metadata": {},
   "source": [
    "### Ellipses"
   ]
  },
  {
   "cell_type": "code",
   "execution_count": null,
   "metadata": {},
   "outputs": [],
   "source": [
    "def confidence_ellipse(x, y, ax, n_std=3.0):\n",
    "    cov = np.cov(x, y)\n",
    "    pearson = cov[0, 1]/np.sqrt(cov[0, 0] * cov[1, 1])\n",
    "   \n",
    "    ell_radius_x = np.sqrt(1 + pearson)\n",
    "    ell_radius_y = np.sqrt(1 - pearson)\n",
    "    ellipse = Ellipse((0, 0), width=ell_radius_x * 2, height=ell_radius_y * 2,\n",
    "                      facecolor='none', edgecolor='navy')\n",
    "\n",
    "    scale_x = np.sqrt(cov[0, 0]) * n_std\n",
    "    mean_x = np.mean(x)\n",
    "\n",
    "    scale_y = np.sqrt(cov[1, 1]) * n_std\n",
    "    mean_y = np.mean(y)\n",
    "\n",
    "    transf = transforms.Affine2D() \\\n",
    "        .rotate_deg(45) \\\n",
    "        .scale(scale_x, scale_y) \\\n",
    "        .translate(mean_x, mean_y)\n",
    "\n",
    "    ellipse.set_transform(transf + ax.transData)\n",
    "    return ax.add_patch(ellipse)"
   ]
  },
  {
   "cell_type": "code",
   "execution_count": null,
   "metadata": {},
   "outputs": [],
   "source": [
    "for n in [20, 60, 100]:\n",
    "    fig, ax = plt.subplots(1, 3)\n",
    "    for i, p in enumerate([0, 0.5, 0.9]):\n",
    "        x, y = gen_norm(p, n)\n",
    "        ax[i].scatter(x, y)\n",
    "        confidence_ellipse(x, y, ax[i])\n",
    "        ax[i].grid()\n",
    "        ax[i].set_title(fr'n = {n}, $\\rho$ = {p}')"
   ]
  },
  {
   "cell_type": "code",
   "execution_count": null,
   "metadata": {},
   "outputs": [],
   "source": [
    "fig, ax = plt.subplots(1, 3)\n",
    "for i, n in enumerate([20, 60, 100]):\n",
    "    x, y = gen_mix(n)\n",
    "    ax[i].scatter(x, y)\n",
    "    confidence_ellipse(x, y, ax[i])\n",
    "    ax[i].grid()\n",
    "    ax[i].set_title(f'n = {n}')"
   ]
  },
  {
   "attachments": {},
   "cell_type": "markdown",
   "metadata": {},
   "source": [
    "## Task 2"
   ]
  },
  {
   "cell_type": "code",
   "execution_count": null,
   "metadata": {},
   "outputs": [],
   "source": [
    "class LinearModel:\n",
    "    def __init__(self):\n",
    "        self.b0 = 0\n",
    "        self.b1 = 0\n",
    "        \n",
    "    def predict(self, x):\n",
    "        return self.b0 + self.b1 * x\n",
    "\n",
    "class LSM(LinearModel):\n",
    "    def fit(self, x, y):\n",
    "        xy_m = np.mean(x * y)\n",
    "        x_m = np.mean(x)\n",
    "        x_2_m = np.mean(x ** 2)\n",
    "        y_m = np.mean(y)\n",
    "        self.b1 = (xy_m - x_m * y_m) / (x_2_m - x_m * x_m)\n",
    "        self.b0 = y_m - x_m * self.b1\n",
    "\n",
    "class LAD(LinearModel):\n",
    "    def fit(self, x, y):\n",
    "        def abs_error(b, *data):\n",
    "            x, y = data\n",
    "            y_predict = b[0] + b[1] * x\n",
    "            return np.linalg.norm(y - y_predict, ord=1)\n",
    "            \n",
    "        self.b0, self.b1 = opt.minimize(abs_error, [0, 1], args=(x, y)).x"
   ]
  },
  {
   "cell_type": "code",
   "execution_count": null,
   "metadata": {},
   "outputs": [],
   "source": [
    "def original(x):\n",
    "    return 2 * x + 2"
   ]
  },
  {
   "attachments": {},
   "cell_type": "markdown",
   "metadata": {},
   "source": [
    "### Without noise"
   ]
  },
  {
   "cell_type": "code",
   "execution_count": null,
   "metadata": {},
   "outputs": [],
   "source": [
    "x = np.arange(-1.8, 2.2, 0.2)\n",
    "y = original(x) + np.random.standard_normal(len(x))\n",
    "\n",
    "lsm = LSM()\n",
    "lsm.fit(x, y)\n",
    "print(f'LSM: b0 = {lsm.b0}, b1 = {lsm.b1}')\n",
    "\n",
    "lad = LAD()\n",
    "lad.fit(x, y)\n",
    "print(f'LAD: b0 = {lad.b0}, b1 = {lad.b1}')\n",
    "\n",
    "fig, ax = plt.subplots()\n",
    "ax.scatter(x, y, label='data')\n",
    "points = np.linspace(-1.8, 2, 100)\n",
    "ax.plot(points, original(points), color='red', label='original')\n",
    "ax.plot(points, lsm.predict(points), color='green', label='lsm')\n",
    "ax.plot(points, lad.predict(points), color='purple', label='lad')\n",
    "ax.legend()\n",
    "ax.grid()"
   ]
  },
  {
   "attachments": {},
   "cell_type": "markdown",
   "metadata": {},
   "source": [
    "### With noise"
   ]
  },
  {
   "cell_type": "code",
   "execution_count": null,
   "metadata": {},
   "outputs": [],
   "source": [
    "x = np.arange(-1.8, 2.2, 0.2)\n",
    "y = original(x) + np.random.standard_normal(len(x))\n",
    "y[0] += 10\n",
    "y[19] -= 10\n",
    "\n",
    "lsm = LSM()\n",
    "lsm.fit(x, y)\n",
    "print(f'b0 = {lsm.b0}, b1 = {lsm.b1}')\n",
    "\n",
    "lad = LAD()\n",
    "lad.fit(x, y)\n",
    "print(f'LAD: b0 = {lad.b0}, b1 = {lad.b1}')\n",
    "\n",
    "fig, ax = plt.subplots()\n",
    "ax.scatter(x, y, label='data')\n",
    "points = np.linspace(-1.8, 2, 100)\n",
    "ax.plot(points, original(points), color='red', label='original')\n",
    "ax.plot(points, lsm.predict(points), color='green', label='lsm')\n",
    "ax.plot(points, lad.predict(points), color='purple', label='lad')\n",
    "ax.legend()\n",
    "ax.grid()"
   ]
  },
  {
   "attachments": {},
   "cell_type": "markdown",
   "metadata": {},
   "source": [
    "## Task 3"
   ]
  },
  {
   "cell_type": "code",
   "execution_count": null,
   "metadata": {},
   "outputs": [],
   "source": [
    "data = np.random.standard_normal(100)"
   ]
  },
  {
   "cell_type": "code",
   "execution_count": null,
   "metadata": {},
   "outputs": [],
   "source": [
    "def chi_table(data):\n",
    "    mu = np.mean(data)\n",
    "    sigma = np.std(data)\n",
    "    print(f'mu={mu}, sigma={sigma}')\n",
    "\n",
    "    k = int(np.floor(1.72 * len(data)**(1/3)))\n",
    "    borders = np.linspace(np.floor(np.min(data)), np.ceil(np.max(data)), k-1)\n",
    "    borders = np.insert(borders, 0, -np.inf)\n",
    "    borders = np.append(borders, np.inf)\n",
    "    \n",
    "    table = []\n",
    "    table.append(['\\hline i', 'Границы $\\Delta_i$', '$n_i$', '$p_i$', \n",
    "                  '$np_i$', '$n_i - np_i$', '$\\\\frac{(n_i - np_i)^2}{np_i}$'])\n",
    "    \n",
    "    ns = []\n",
    "    ps = []\n",
    "    nps = []\n",
    "    n_sub_nps = []\n",
    "    ress = []\n",
    "   \n",
    "    for i in range(len(borders) - 1):\n",
    "        left = borders[i]\n",
    "        right = borders[i + 1]\n",
    "        \n",
    "        n = ((left < data) & (data <= right)).sum()\n",
    "        ns.append(n)\n",
    "        \n",
    "        p = stats.norm.cdf(right) - stats.norm.cdf(left)\n",
    "        ps.append(p)\n",
    "        \n",
    "        np_ =  len(data) * p\n",
    "        nps.append(np_)\n",
    "        \n",
    "        n_sub_np = n - np_\n",
    "        n_sub_nps.append(n_sub_np)\n",
    "        \n",
    "        res = n_sub_np ** 2 / np_\n",
    "        ress.append(res)\n",
    "        \n",
    "        table.append([i + 1, f'({round(left, 2)}, {round(right, 2)}]', \n",
    "                      round(n, 2), round(p, 2), round(np_, 2), round(n_sub_np, 2), round(res, 2)])\n",
    "    table.append(['$\\sum$', '-', sum(ns), sum(ps), round(sum(nps)), round(sum(n_sub_nps)), round(sum(ress), 2)])\n",
    "    return table\n",
    "\n",
    "def write_table(path, table):\n",
    "    with open(path, \"w\") as f:\n",
    "        f.write(\"\\\\begin{tabular}{|c|c|c|c|c|c|c|}\\n\")\n",
    "        f.write(\"\\\\hline\\n\")\n",
    "        for row in table:\n",
    "            f.write(\" & \".join([str(i) for i in row]) + \"\\\\\\\\\\n\")\n",
    "            f.write(\"\\\\hline\\n\")\n",
    "        f.write(\"\\\\end{tabular}\")"
   ]
  },
  {
   "cell_type": "code",
   "execution_count": null,
   "metadata": {},
   "outputs": [],
   "source": [
    "write_table('task3_normal.tex', chi_table(np.random.standard_normal(100)))\n",
    "write_table('task3_laplace.tex', chi_table(np.random.laplace(0, 1 / np.sqrt(2), 20)))"
   ]
  },
  {
   "attachments": {},
   "cell_type": "markdown",
   "metadata": {},
   "source": [
    "## Task 4"
   ]
  },
  {
   "cell_type": "code",
   "execution_count": null,
   "metadata": {},
   "outputs": [],
   "source": [
    "def ci_mean_t(data, alpha):\n",
    "    n = len(data)\n",
    "    m = np.mean(data)\n",
    "    s = np.std(data)\n",
    "    t = stats.t.ppf(1 - alpha / 2, n - 1)\n",
    "    d = s * t / np.sqrt(n - 1)\n",
    "    return m - d, m + d\n",
    "\n",
    "def ci_std_t(data, alpha):\n",
    "    n = len(data)\n",
    "    s = np.std(data)\n",
    "    return s * np.sqrt(n) / np.sqrt(stats.chi2.ppf(1 - alpha / 2, n - 1)), s * np.sqrt(n) / np.sqrt(stats.chi2.ppf(alpha / 2, n - 1))\n",
    "\n",
    "def ci_mean_asymp(data, alpha):\n",
    "    n = len(data)\n",
    "    m = np.mean(data)\n",
    "    s = np.std(data)\n",
    "    u = stats.norm.ppf(1 - alpha / 2)\n",
    "    d = s * u / np.sqrt(n)\n",
    "    return m - d, m + d\n",
    "\n",
    "def ci_std_asymp(data, alpha):\n",
    "    n = len(data)\n",
    "    s = np.std(data)\n",
    "    u = stats.norm.ppf(1 - alpha / 2)\n",
    "    m4 = stats.moment(data, 4)\n",
    "    e = m4 / s ** 4 - 3\n",
    "    U = u * np.sqrt((e + 2) / n)\n",
    "    return s / np.sqrt(1 + U), s / np.sqrt(1 - U)"
   ]
  },
  {
   "cell_type": "code",
   "execution_count": null,
   "metadata": {},
   "outputs": [],
   "source": [
    "data20 = np.random.standard_normal(20)\n",
    "data100 = np.random.standard_normal(100)\n",
    "\n",
    "t_mean_20 = ci_mean_t(data20, 0.05)\n",
    "t_mean_100 = ci_mean_t(data100, 0.05)\n",
    "t_std_20 = ci_std_t(data20, 0.05)\n",
    "t_std_100 = ci_std_t(data100, 0.05)\n",
    "\n",
    "asymp_mean_20 = ci_mean_asymp(data20, 0.05)\n",
    "asymp_mean_100 = ci_mean_asymp(data100, 0.05)\n",
    "asymp_std_20 = ci_std_asymp(data20, 0.05)\n",
    "asymp_std_100 = ci_std_asymp(data100, 0.05)\n",
    "\n",
    "print(t_mean_20, t_std_20)\n",
    "print(t_mean_100, t_std_100)\n",
    "print(asymp_mean_20, asymp_std_20)\n",
    "print(asymp_mean_100, asymp_std_100)"
   ]
  },
  {
   "cell_type": "code",
   "execution_count": null,
   "metadata": {},
   "outputs": [],
   "source": [
    "fig, ax = plt.subplots(1, 2)\n",
    "plt.subplots_adjust(wspace = 0.5)\n",
    "ax[0].set_ylim([0,1])\n",
    "ax[0].hist(data20, 10, density = 1, edgecolor = 'black')\n",
    "\n",
    "max_mu20 = max(t_mean_20[1], asymp_mean_20[1])\n",
    "min_mu20 = min(t_mean_20[0], asymp_mean_20[0])\n",
    "max_sigma20 = max(t_std_20[1], asymp_std_20[1])\n",
    "\n",
    "ax[0].axvline(x=min_mu20, label='max\\u03BC ', color='green')\n",
    "ax[0].axvline(x=max_mu20, label='min\\u03BC', color='red')\n",
    "ax[0].axvline(x=min_mu20 - max_sigma20, label='min\\u03BC - max\\u03C3', color='black')\n",
    "ax[0].axvline(x=max_mu20 + max_sigma20,label= 'max\\u03BC + max\\u03C3', color='orange')\n",
    "ax[0].legend()\n",
    "ax[0].set_title('N(0,1) hist, n = 20')\n",
    "\n",
    "max_mu100 = max(t_mean_100[1], asymp_mean_100[1])\n",
    "min_mu100 = min(t_mean_100[0], asymp_mean_100[0])\n",
    "max_sigma100 = max(t_std_100[1], asymp_std_100[1])\n",
    "\n",
    "ax[1].set_ylim([0,1])\n",
    "ax[1].hist(data100, 10, density = 1, edgecolor = 'black')\n",
    "ax[1].axvline(x=min_mu100, label='max\\u03BC ', color='green')\n",
    "ax[1].axvline(x=max_mu100, label='min\\u03BC', color='red')\n",
    "ax[1].axvline(x=min_mu100 - max_sigma100, label='min\\u03BC - max\\u03C3', color='black')\n",
    "ax[1].axvline(x=max_mu100 + max_sigma100,label= 'max\\u03BC + max\\u03C3', color='orange')\n",
    "ax[1].legend()\n",
    "ax[1].set_title('N(0,1) hist, n = 100')"
   ]
  },
  {
   "cell_type": "code",
   "execution_count": null,
   "metadata": {},
   "outputs": [],
   "source": [
    "fig, ax = plt.subplots(2, 2, figsize=(10,10))\n",
    "plt.subplots_adjust(wspace = 0.2, hspace = 0.2) \n",
    "\n",
    "ax[0][0].plot([q for q in t_mean_20], [0.3, 0.3], color='r', marker = '.', linewidth = 1, label = 'm interval, n = 20')\n",
    "ax[0][0].plot([q for q in t_mean_100], [0.6, 0.6], color='blue', marker = '.', linewidth = 1, label = 'm interval, n = 100')\n",
    "ax[0][0].set_ylim([0,1])\n",
    "ax[0][0].set_title('Classic approach')\n",
    "ax[0][0].legend()\n",
    "\n",
    "ax[0][1].plot([q for q in t_std_20], [0.3, 0.3], color='r', marker = '.', linewidth = 1, label = 'sigma interval, n = 20')\n",
    "ax[0][1].plot([q for q in t_std_100], [0.6, 0.6], color='blue', marker = '.', linewidth = 1, label = 'sigma interval, n = 100')\n",
    "ax[0][1].set_ylim([0,1])\n",
    "ax[0][1].set_title('Classic approach')\n",
    "ax[0][1].legend()\n",
    "\n",
    "ax[1][0].plot([q for q in asymp_mean_20], [0.3, 0.3], color='r', marker = '.', linewidth = 1, label = 'm interval, n = 20')\n",
    "ax[1][0].plot([q for q in asymp_mean_100], [0.6, 0.6], color='blue', marker = '.', linewidth = 1, label = 'm interval, n = 100')\n",
    "ax[1][0].set_ylim([0,1])\n",
    "ax[1][0].set_title('Asymptotic approach')\n",
    "ax[1][0].legend()\n",
    "\n",
    "ax[1][1].plot([q for q in asymp_std_20], [0.3, 0.3], color='r', marker = '.', linewidth = 1, label = 'sigma interval, n = 20')\n",
    "ax[1][1].plot([q for q in asymp_std_100], [0.6, 0.6], color='blue', marker = '.', linewidth = 1, label = 'sigma interval, n = 100')\n",
    "ax[1][1].set_ylim([0,1])\n",
    "ax[1][1].set_title('Asymptotic approach')\n",
    "ax[1][1].legend()"
   ]
  }
 ],
 "metadata": {
  "kernelspec": {
   "display_name": "Python 3",
   "language": "python",
   "name": "python3"
  },
  "language_info": {
   "codemirror_mode": {
    "name": "ipython",
    "version": 3
   },
   "file_extension": ".py",
   "mimetype": "text/x-python",
   "name": "python",
   "nbconvert_exporter": "python",
   "pygments_lexer": "ipython3",
   "version": "3.11.3"
  },
  "orig_nbformat": 4
 },
 "nbformat": 4,
 "nbformat_minor": 2
}
