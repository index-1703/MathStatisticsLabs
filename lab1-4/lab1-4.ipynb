{
 "cells": [
  {
   "attachments": {},
   "cell_type": "markdown",
   "id": "44bd3245",
   "metadata": {},
   "source": [
    "# MathStatistisc, lab 1-4"
   ]
  },
  {
   "cell_type": "code",
   "execution_count": null,
   "id": "e5bb1956",
   "metadata": {},
   "outputs": [],
   "source": [
    "import numpy as np\n",
    "import seaborn as sns\n",
    "import scipy as sp\n",
    "from  matplotlib import pyplot as plt\n",
    "from math import sqrt, gamma\n",
    "from statsmodels.distributions.empirical_distribution import ECDF"
   ]
  },
  {
   "cell_type": "code",
   "execution_count": null,
   "id": "667f9bd1",
   "metadata": {},
   "outputs": [],
   "source": [
    "dists = {'Normal': {\n",
    "            'gen_data': np.random.standard_normal, \n",
    "            'cdf': sp.stats.norm.cdf, \n",
    "            'pdf': sp.stats.norm.pdf\n",
    "        },\n",
    "         'Cauchy': {\n",
    "             'gen_data': np.random.standard_cauchy, \n",
    "             'cdf': sp.stats.cauchy.cdf, \n",
    "             'pdf':sp.stats.cauchy.pdf\n",
    "         },\n",
    "         'Laplace': {\n",
    "             'gen_data': lambda n: np.random.laplace(0, 1 / sqrt(2), n),\n",
    "             'cdf': lambda x: sp.stats.laplace.cdf(x, 0, 1 / sqrt(2)),\n",
    "             'pdf': lambda x: sp.stats.laplace.pdf(x, 0, 1 / sqrt(2))\n",
    "         },\n",
    "         'Poisson': {\n",
    "             'gen_data': lambda n: np.random.poisson(10, n), \n",
    "             'cdf': lambda x: sp.stats.poisson.cdf(x, 10), \n",
    "             'pdf': lambda x: 10 ** x * np.exp(-10) / gamma(x + 1)\n",
    "         },\n",
    "         'Uniform': {\n",
    "             'gen_data': lambda n: np.random.uniform(-sqrt(3), sqrt(3), n), \n",
    "             'cdf': lambda x: sp.stats.uniform.cdf(x, -sqrt(3), 2 * sqrt(3)), \n",
    "             'pdf': lambda x: sp.stats.uniform.pdf(x, -sqrt(3), 2 * sqrt(3))\n",
    "        }}"
   ]
  },
  {
   "attachments": {},
   "cell_type": "markdown",
   "id": "5c331c46",
   "metadata": {},
   "source": [
    "## lab 1"
   ]
  },
  {
   "cell_type": "code",
   "execution_count": null,
   "id": "67fb22f6",
   "metadata": {},
   "outputs": [],
   "source": [
    "def build_hist(datasets, pdf, name):\n",
    "    fig, axes = plt.subplots(1, len(datasets), figsize=(20, 4))\n",
    "    fig.suptitle(name)\n",
    "    for i, data in enumerate(datasets):\n",
    "        sns.histplot(data, kde=False, stat='density', label='samples', ax=axes[i])\n",
    "        x0, x1 = axes[i].get_xlim()\n",
    "        x_pdf = np.linspace(x0, x1, 100)\n",
    "        y_pdf = [pdf(x) for x in x_pdf]\n",
    "\n",
    "        axes[i].plot(x_pdf, y_pdf, 'r', lw=2, label='pdf') \n",
    "        axes[i].set_title(f'n = {len(data)}')"
   ]
  },
  {
   "cell_type": "code",
   "execution_count": null,
   "id": "6d0d5e01",
   "metadata": {},
   "outputs": [],
   "source": [
    "for name, dist in dists.items():\n",
    "    build_hist([dist['gen_data'](n) for n in [10, 50, 1000]], dist['pdf'], name)"
   ]
  },
  {
   "attachments": {},
   "cell_type": "markdown",
   "id": "7cae1571",
   "metadata": {},
   "source": [
    "## lab 2"
   ]
  },
  {
   "cell_type": "code",
   "execution_count": null,
   "id": "465a57b8",
   "metadata": {},
   "outputs": [],
   "source": [
    "def calc_chars(data_generator, n):\n",
    "    iters = 1000\n",
    "    mean = 0\n",
    "    med = 0\n",
    "    z_r = 0\n",
    "    z_q = 0\n",
    "    z_tr = 0\n",
    "    mean_2 = 0\n",
    "    med_2 = 0\n",
    "    z_r_2 = 0\n",
    "    z_q_2 = 0\n",
    "    z_tr_2 = 0\n",
    "    for i in range(iters):\n",
    "        data = data_generator(n)\n",
    "        data.sort()\n",
    "        \n",
    "        tmp = data.mean()\n",
    "        mean += tmp\n",
    "        mean_2 += tmp ** 2\n",
    "        \n",
    "        tmp = np.median(data)\n",
    "        med += tmp\n",
    "        med_2 += tmp ** 2 \n",
    "        \n",
    "        tmp = (data[0] + data[-1]) / 2\n",
    "        z_r += tmp\n",
    "        z_r_2 += tmp ** 2\n",
    "        \n",
    "        tmp = (np.quantile(data, 0.25) + np.quantile(data, 0.75)) / 2\n",
    "        z_q += tmp\n",
    "        z_q_2 += tmp ** 2\n",
    "        \n",
    "        r = n // 4\n",
    "        tmp = sum(data[r:-r]) / (n - 2 * r)\n",
    "        z_tr += tmp\n",
    "        z_tr_2 += tmp ** 2\n",
    "\n",
    "    mean /= iters\n",
    "    med /= iters\n",
    "    z_r /= iters\n",
    "    z_q /= iters\n",
    "    z_tr /= iters\n",
    "    mean_2 /= iters\n",
    "    med_2 /= iters\n",
    "    z_r_2 /= iters\n",
    "    z_q_2 /= iters\n",
    "    z_tr_2 /= iters\n",
    "\n",
    "    d_mean = mean_2 - mean ** 2\n",
    "    d_med = med_2 - med ** 2\n",
    "    d_z_r = z_r_2 - z_r ** 2\n",
    "    d_z_q = z_q_2 - z_q ** 2\n",
    "    d_z_tr = z_tr_2 - z_tr ** 2\n",
    "\n",
    "    mean= round(mean, 4)\n",
    "    med= round(med, 4)\n",
    "    z_r= round(z_r, 4)\n",
    "    z_q= round(z_q, 4)\n",
    "    z_tr= round(z_tr, 4)\n",
    "    d_mean= round(d_mean, 4)\n",
    "    d_med= round(d_med, 4)\n",
    "    d_z_r= round(d_z_r, 4)\n",
    "    d_z_q= round(d_z_q, 4)\n",
    "    d_z_tr= round(d_z_tr, 4)\n",
    "    \n",
    "    print(f\"& {mean} & {med} & {z_r} & {z_q} & {z_tr} \")\n",
    "    print(f\"& {d_mean} & {d_med} & {d_z_r} & {d_z_q} & {d_z_tr} \")\n",
    "    print(f\"& {mean - sqrt(d_mean)} & {med - sqrt(d_med)} & {z_r - sqrt(d_z_r)} & {z_q - sqrt(d_z_q)} & {z_tr - sqrt(d_z_tr)} \")\n",
    "    print(f\"& {mean + sqrt(d_mean)} & {med + sqrt(d_med)} & {z_r + sqrt(d_z_r)} & {z_q + sqrt(d_z_q)} & {z_tr + sqrt(d_z_tr)} \")\n",
    "\n",
    "    mean= round(mean, 1)\n",
    "    med= round(med, 1)\n",
    "    z_r= round(z_r, 1)\n",
    "    z_q= round(z_q, 1)\n",
    "    z_tr= round(z_tr, 1)\n",
    "    d_mean= round(sqrt(d_mean), 1)\n",
    "    d_med= round(sqrt(d_med), 1)\n",
    "    d_z_r= round(sqrt(d_z_r), 1)\n",
    "    d_z_q= round(sqrt(d_z_q), 1)\n",
    "    d_z_tr= round(sqrt(d_z_tr), 1)\n",
    "    print(f\"& ${mean}\\pm{d_mean}$ & ${med}\\pm{d_med}$ & ${z_r}\\pm{d_z_r}$ & ${z_q}\\pm{d_z_q}$ & ${z_tr}\\pm{d_z_tr}& \")\n",
    "    "
   ]
  },
  {
   "cell_type": "code",
   "execution_count": null,
   "id": "825efbe5",
   "metadata": {},
   "outputs": [],
   "source": [
    "for name, dist in dists.items():\n",
    "    for n in [10, 100, 1000]:\n",
    "        print(f'{name}, n = {n}:')\n",
    "        calc_chars(dist['gen_data'], n)\n",
    "    print()"
   ]
  },
  {
   "attachments": {},
   "cell_type": "markdown",
   "id": "57907be1",
   "metadata": {},
   "source": [
    "## lab 3"
   ]
  },
  {
   "attachments": {},
   "cell_type": "markdown",
   "id": "19adb3e6",
   "metadata": {},
   "source": [
    "### Boxplots"
   ]
  },
  {
   "cell_type": "code",
   "execution_count": null,
   "id": "6c607e06",
   "metadata": {},
   "outputs": [],
   "source": [
    "def build_boxplot(dataset, title):\n",
    "    names=[str(len(data)) for data in dataset]\n",
    "    fig, ax = plt.subplots(1, 1, figsize=(10, 4))\n",
    "    sns.boxplot(data=dataset, orient='h', ax=ax)\n",
    "    ax.set(xlabel='x', ylabel='n')\n",
    "    ax.set(yticklabels=names)\n",
    "    ax.set_title(title)"
   ]
  },
  {
   "cell_type": "code",
   "execution_count": null,
   "id": "8deaceb1",
   "metadata": {},
   "outputs": [],
   "source": [
    "for name, dist in dists.items():\n",
    "    build_boxplot([dist['gen_data'](100), dist['gen_data'](20)], name)"
   ]
  },
  {
   "attachments": {},
   "cell_type": "markdown",
   "id": "8881fe85",
   "metadata": {},
   "source": [
    "### Share of outliers"
   ]
  },
  {
   "cell_type": "code",
   "execution_count": null,
   "id": "543350bb",
   "metadata": {},
   "outputs": [],
   "source": [
    "def calc_outlier(data_generator, n, iters=1000):\n",
    "    num = 0\n",
    "    for i in range(iters):\n",
    "        data = data_generator(n)\n",
    "        q1 = np.quantile(data, 0.25)\n",
    "        q3 = np.quantile(data, 0.75)\n",
    "        iqr = q3 - q1\n",
    "        x1 = q1 - 1.5 * iqr\n",
    "        x2 = q3 + 1.5 * iqr\n",
    "        num += np.count_nonzero((data < x1) | (x2 < data)) / n\n",
    "    return round(num / iters, 2)"
   ]
  },
  {
   "cell_type": "code",
   "execution_count": null,
   "id": "a49f71ab",
   "metadata": {},
   "outputs": [],
   "source": [
    "for name, dist in dists.items():\n",
    "    for n in [20, 100]:\n",
    "        print(f'{name} {n}:', calc_outlier(dist['gen_data'], n))"
   ]
  },
  {
   "attachments": {},
   "cell_type": "markdown",
   "id": "6e820f6a",
   "metadata": {},
   "source": [
    "## lab 4"
   ]
  },
  {
   "attachments": {},
   "cell_type": "markdown",
   "id": "4e30ac7d",
   "metadata": {},
   "source": [
    "### Empirical distribution function"
   ]
  },
  {
   "cell_type": "code",
   "execution_count": null,
   "id": "ed72e0c8",
   "metadata": {},
   "outputs": [],
   "source": [
    "def build_edf(name, datasets, cdf, x):\n",
    "    fig, axes = plt.subplots(1, len(datasets), figsize=(12, 4))\n",
    "    fig.suptitle(name)\n",
    "    for i, data in enumerate(datasets):\n",
    "        y1 = ECDF(data)(x)\n",
    "        y2 = cdf(x)\n",
    "        axes[i].plot(x, y1)\n",
    "        axes[i].plot(x, y2)\n",
    "        axes[i].set_title(f'n = {len(data)}')"
   ]
  },
  {
   "cell_type": "code",
   "execution_count": null,
   "id": "ee741981",
   "metadata": {},
   "outputs": [],
   "source": [
    "for name, dist in dists.items():\n",
    "    if name != 'Poisson': \n",
    "        build_edf(name, [dist['gen_data'](n) for n in [20, 60, 100]], dist['cdf'], np.linspace(-4, 4, 100))\n",
    "    else:\n",
    "        build_edf(name, [dist['gen_data'](n) for n in [20, 60, 100]], dist['cdf'], np.linspace(6, 14, 100))"
   ]
  },
  {
   "attachments": {},
   "cell_type": "markdown",
   "id": "ed9b8457",
   "metadata": {},
   "source": [
    "### KDE"
   ]
  },
  {
   "cell_type": "code",
   "execution_count": null,
   "id": "e1a8f9a4",
   "metadata": {},
   "outputs": [],
   "source": [
    "def build_kde(name, data, pdf, x):\n",
    "    scales = [0.5, 1.0, 2.0]\n",
    "    fig, ax = plt.subplots(1, len(scales), figsize=(12, 4))\n",
    "    fig.suptitle(f'{name}, n = {len(data)}')\n",
    "    for i, scale in enumerate(scales):\n",
    "        sns.kdeplot(data, ax=ax[i], bw_method='silverman', bw_adjust=scale, label='kde')\n",
    "        ax[i].set_xlim([x[0], x[-1]])\n",
    "        ax[i].set_ylim([0, 1])\n",
    "        ax[i].plot(x, [pdf(xk) for xk in x], label='pdf')\n",
    "        # ax[i].legend()\n",
    "        ax[i].set_title(f'h={str(scale)}*$h_n$')"
   ]
  },
  {
   "cell_type": "code",
   "execution_count": null,
   "id": "d885b4fb",
   "metadata": {},
   "outputs": [],
   "source": [
    "for name, dist in dists.items():\n",
    "    for n in [20, 60, 100]:\n",
    "        if name != 'Poisson':\n",
    "            build_kde(name, dist['gen_data'](n), dist['pdf'], np.linspace(-4, 4, 100))\n",
    "        else:\n",
    "            build_kde(name, dist['gen_data'](n), dist['pdf'], np.linspace(6, 14, 100))"
   ]
  }
 ],
 "metadata": {
  "kernelspec": {
   "display_name": "Python 3 (ipykernel)",
   "language": "python",
   "name": "python3"
  },
  "language_info": {
   "codemirror_mode": {
    "name": "ipython",
    "version": 3
   },
   "file_extension": ".py",
   "mimetype": "text/x-python",
   "name": "python",
   "nbconvert_exporter": "python",
   "pygments_lexer": "ipython3",
   "version": "3.11.3"
  }
 },
 "nbformat": 4,
 "nbformat_minor": 5
}
